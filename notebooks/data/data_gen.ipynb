{
 "cells": [
  {
   "cell_type": "code",
   "execution_count": 1,
   "id": "1ad70802",
   "metadata": {},
   "outputs": [],
   "source": [
    "import pandas as pd \n",
    "import random\n",
    "\n",
    "df_clean = pd.read_csv(\"/home/arthur/projets/protein-generation/data/seq_clean_L100.csv\")"
   ]
  },
  {
   "cell_type": "code",
   "execution_count": null,
   "id": "a7d10dd3",
   "metadata": {},
   "outputs": [],
   "source": [
    "AA_SET = \"ACDEFGHIKLMNPQRSTVWY\" \n",
    "\n",
    "random_sequences = [\n",
    "    ''.join(random.choices(AA_SET, k=100)) \n",
    "    for _ in range(1000)\n",
    "]\n",
    "\n",
    "df_random = pd.DataFrame({'sequence': random_sequences})\n",
    "\n",
    "# Sauvegarder dans un CSV\n",
    "#df_random.to_csv('/home/arthur/projets/protein-generation/data/seq_random_L100.csv', index=False)"
   ]
  },
  {
   "cell_type": "code",
   "execution_count": null,
   "id": "1bfcaf3b",
   "metadata": {},
   "outputs": [],
   "source": [
    "def circular_cut(sequence, min_bound=10, max_bound=9):\n",
    "    cut_position = random.randint(min_bound, max_bound)\n",
    "    return sequence[cut_position:] + sequence[:cut_position]\n",
    "\n",
    "def repeated_circular_cut(sequence, k, min_bound=10, max_bound=90):\n",
    "    result = sequence\n",
    "    for i in range(k):\n",
    "        result = circular_cut(result, min_bound, max_bound)\n",
    "    return result"
   ]
  }
 ],
 "metadata": {
  "kernelspec": {
   "display_name": "eval_env",
   "language": "python",
   "name": "python3"
  },
  "language_info": {
   "codemirror_mode": {
    "name": "ipython",
    "version": 3
   },
   "file_extension": ".py",
   "mimetype": "text/x-python",
   "name": "python",
   "nbconvert_exporter": "python",
   "pygments_lexer": "ipython3",
   "version": "3.9.23"
  }
 },
 "nbformat": 4,
 "nbformat_minor": 5
}
