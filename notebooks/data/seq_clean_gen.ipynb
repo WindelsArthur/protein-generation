{
 "cells": [
  {
   "cell_type": "markdown",
   "id": "6e1781b4",
   "metadata": {},
   "source": [
    "# SEQTOY"
   ]
  },
  {
   "cell_type": "code",
   "execution_count": 1,
   "id": "1ad70802",
   "metadata": {},
   "outputs": [
    {
     "name": "stdout",
     "output_type": "stream",
     "text": [
      "  #GroupName  ProteinCount  SpeciesCount FunctionalCategory  \\\n",
      "0   VOG00001          2431            68                 Xh   \n",
      "1   VOG00001          2431            68                 Xh   \n",
      "2   VOG00001          2431            68                 Xh   \n",
      "3   VOG00001          2431            68                 Xh   \n",
      "4   VOG00001          2431            68                 Xh   \n",
      "\n",
      "           ProteinIDs                                        description  \\\n",
      "0  1128135.AEX61303.1  putative ankyrin repeat protein [Megavirus cou...   \n",
      "1  1128140.AFX92128.1  putative ankyrin repeat protein [Megavirus cou...   \n",
      "2  1128140.AFX92190.1  putative ankyrin repeat protein [Megavirus cou...   \n",
      "3  1128140.AFX92073.1  putative ankyrin repeat protein [Megavirus cou...   \n",
      "4  1128140.AFX93081.1  putative ankyrin repeat protein [Megavirus cou...   \n",
      "\n",
      "                                            sequence  \n",
      "0  MDIIMQIIHIGDKFENNHICLAAIYSSKYHILDELVSLGIDLNAQA...  \n",
      "1  MQSENIRFKILRSDKTHNDLQYQKGLNQITHFEENGSCVPGGIYFC...  \n",
      "2  MEYLNTEAEFFRINNYWERHFDHFYTNGLNKMTEPFDTSPDADSGF...  \n",
      "3  MDQIMDQIPDEIWLHIISYLGNSKYDFYFTQVKFFEFIRYKKIGRN...  \n",
      "4  MEINFDTIPTEIWIKISDYMDNHAINLALLNKDFLRIISYLDGHKP...  \n"
     ]
    }
   ],
   "source": [
    "import pandas as pd \n",
    "\n",
    "protein_data = pd.read_csv('/home/arthur/projets/protein-generation/data/train.tsv', sep=',')\n",
    "print(protein_data.head())\n"
   ]
  },
  {
   "cell_type": "code",
   "execution_count": 2,
   "id": "82219f7c",
   "metadata": {},
   "outputs": [
    {
     "name": "stdout",
     "output_type": "stream",
     "text": [
      "381760\n"
     ]
    }
   ],
   "source": [
    "protein_sequences_raw = protein_data['sequence'].tolist()   \n",
    "print(len(protein_sequences_raw))"
   ]
  },
  {
   "cell_type": "code",
   "execution_count": 3,
   "id": "b9009cca",
   "metadata": {},
   "outputs": [
    {
     "name": "stdout",
     "output_type": "stream",
     "text": [
      "Nombre de séquences valides : 381016\n"
     ]
    }
   ],
   "source": [
    "\n",
    "allowed = set(\"ACDEFGHIKLMNPQRSTVWY\")\n",
    "\n",
    "def is_valid(seq):\n",
    "    if seq is None or seq == '' or not isinstance(seq, str):\n",
    "        return False\n",
    "    return all(c in allowed for c in seq)\n",
    "\n",
    "protein_sequences_clean = [s for s in protein_sequences_raw if is_valid(s)]\n",
    "print(f\"Nombre de séquences valides : {len(protein_sequences_clean)}\")"
   ]
  },
  {
   "cell_type": "code",
   "execution_count": 4,
   "id": "2a688b23",
   "metadata": {},
   "outputs": [],
   "source": [
    "df_seq_clean = pd.DataFrame({'sequence': protein_sequences_clean})\n",
    "df_seq_clean.to_csv('/home/arthur/projets/protein-generation/data/seq_clean.csv', index=False)"
   ]
  },
  {
   "cell_type": "code",
   "execution_count": 6,
   "id": "97bd5a3d",
   "metadata": {},
   "outputs": [
    {
     "name": "stdout",
     "output_type": "stream",
     "text": [
      "Longueur moyenne des séquences : 240.68109213261386\n",
      "Longueur maximale des séquences : 7490\n",
      "Longueur minimale des séquences : 14\n",
      "Nombre de longueurs : 2526\n",
      "Nombre de séquences longueur 1000 : 16\n",
      "Nombre de séquences longueur 500 : 188\n",
      "Nombre de séquences longueur 300 : 425\n",
      "Nombre de séquences longueur 100 : 1628\n",
      "Nombre de séquences longueur 487 : 277\n"
     ]
    }
   ],
   "source": [
    "lengths = [len(seq) for seq in protein_sequences_clean]\n",
    "print(f\"Longueur moyenne des séquences : {sum(lengths) / len(lengths)}\")\n",
    "print(f\"Longueur maximale des séquences : {max(lengths)}\")  \n",
    "print(f\"Longueur minimale des séquences : {min(lengths)}\")\n",
    "print(f\"Nombre de longueurs : {len(set(lengths))}\")\n",
    "\n",
    "print(f\"Nombre de séquences longueur 1000 : {len([seq for seq in protein_sequences_clean if len(seq) == 1000])}\")\n",
    "print(f\"Nombre de séquences longueur 500 : {len([seq for seq in protein_sequences_clean if len(seq) == 500])}\")\n",
    "print(f\"Nombre de séquences longueur 300 : {len([seq for seq in protein_sequences_clean if len(seq) == 300])}\")\n",
    "print(f\"Nombre de séquences longueur 100 : {len([seq for seq in protein_sequences_clean if len(seq) == 100])}\")\n",
    "print(f\"Nombre de séquences longueur 487 : {len([seq for seq in protein_sequences_clean if len(seq) == 487])}\")"
   ]
  },
  {
   "cell_type": "code",
   "execution_count": 5,
   "id": "67d6b823",
   "metadata": {},
   "outputs": [],
   "source": [
    "df_seq_clean_L500 = pd.DataFrame({'sequence': [seq for seq in protein_sequences_clean if len(seq) == 500]})\n",
    "\n",
    "# Sauvegarder dans un CSV\n",
    "df_seq_clean_L500.to_csv('/home/arthur/projets/protein-generation/data/seq_clean_L500.csv', index=False)"
   ]
  }
 ],
 "metadata": {
  "kernelspec": {
   "display_name": "eval_env",
   "language": "python",
   "name": "python3"
  },
  "language_info": {
   "codemirror_mode": {
    "name": "ipython",
    "version": 3
   },
   "file_extension": ".py",
   "mimetype": "text/x-python",
   "name": "python",
   "nbconvert_exporter": "python",
   "pygments_lexer": "ipython3",
   "version": "3.9.23"
  }
 },
 "nbformat": 4,
 "nbformat_minor": 5
}
