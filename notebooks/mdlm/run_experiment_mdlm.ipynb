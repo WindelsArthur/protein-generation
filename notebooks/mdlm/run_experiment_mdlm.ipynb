{
 "cells": [
  {
   "cell_type": "markdown",
   "id": "3d6abdf2",
   "metadata": {},
   "source": [
    "# MDLM"
   ]
  },
  {
   "cell_type": "markdown",
   "id": "863774ef",
   "metadata": {},
   "source": [
    "### CONFIG"
   ]
  },
  {
   "cell_type": "code",
   "execution_count": 1,
   "id": "255410e1",
   "metadata": {},
   "outputs": [],
   "source": [
    "import torch\n",
    "import torch.nn as nn\n",
    "import torch.nn.functional as F\n",
    "import numpy as np\n",
    "import matplotlib.pyplot as plt\n",
    "from tqdm import tqdm\n",
    "import pandas as pd\n",
    "\n",
    "import sys, pathlib, os\n",
    "project_root = pathlib.Path.home() / \"projets\" / \"protein-generation\"\n",
    "sys.path.append(str(project_root))\n",
    "\n",
    "from scripts.models.mdlm_VL_M_utils import *\n",
    "from scripts.utils import *"
   ]
  },
  {
   "cell_type": "code",
   "execution_count": 2,
   "id": "260c2981",
   "metadata": {},
   "outputs": [
    {
     "name": "stdout",
     "output_type": "stream",
     "text": [
      "=== STARTING EXPERIMENT ===\n",
      "Experiment name: exp_classic_mdlm_VL__20250722_103305\n",
      "Experiment directory: /home/arthur/projets/protein-generation/experiments/models/exp_classic_mdlm_VL__20250722_103305\n"
     ]
    },
    {
     "data": {
      "text/plain": [
       "'/home/arthur/projets/protein-generation/experiments/models/exp_classic_mdlm_VL__20250722_103305/config.yaml'"
      ]
     },
     "execution_count": 2,
     "metadata": {},
     "output_type": "execute_result"
    }
   ],
   "source": [
    "# %% Main experiment workflow\n",
    "print(\"=== STARTING EXPERIMENT ===\")\n",
    "config = load_experiment_config(\"/home/arthur/projets/protein-generation/configs/base_config.yaml\")\n",
    "config = setup_experiment_directory(config)\n",
    "\n",
    "print(f\"Experiment name: {config['experiment']['name']}\")\n",
    "print(f\"Experiment directory: {config['exp_dir']}\")\n",
    "\n",
    "# Immediately save the configuration\n",
    "save_experiment_config(config, config['exp_dir'])"
   ]
  },
  {
   "cell_type": "code",
   "execution_count": 3,
   "id": "8be6a516",
   "metadata": {},
   "outputs": [
    {
     "name": "stdout",
     "output_type": "stream",
     "text": [
      "1000 séquences\n",
      "{40, 42, 45, 46, 48, 57, 58, 59, 60, 61, 63, 64, 65, 66, 67, 68, 69, 70, 71, 72, 73, 74, 75, 76, 77, 78, 79, 80, 81, 82, 84, 85, 86, 87, 88, 89, 90, 91, 92, 93, 94, 95, 96, 97, 98, 99, 100, 101, 102, 103, 104, 105, 106, 107, 108, 109, 110, 111, 112, 114, 115, 116, 117, 118, 119, 120, 121, 122, 123, 126, 127, 128, 129, 130, 131, 132, 133, 134, 135, 136, 137, 138, 139, 140, 141, 142, 145, 146, 147, 149, 150, 151, 152, 153, 154, 155, 156, 159, 160, 161, 162, 163, 165, 166, 167, 168, 169, 170, 171, 172, 173, 174, 175, 176, 177, 178, 180, 182, 183, 184, 185, 186, 187, 189, 190, 191, 192, 193, 194, 195, 196, 197, 198, 199, 200, 201, 202, 205, 206, 207, 208, 209, 210, 211, 212, 213, 214, 216, 217, 218, 219, 220, 221, 222, 223, 224, 225, 226, 227, 228, 229, 230, 231, 232, 233, 234, 235, 236, 237, 238, 239, 240, 241, 242, 243, 244, 245, 246, 247, 248, 249, 250, 251, 252, 254, 255, 256, 257, 258, 259, 260, 261, 262, 263, 264, 265, 266, 267, 268, 269, 270, 271, 272, 273, 274, 275, 276, 277, 278, 279, 280, 281, 282, 283, 284, 285, 286, 287, 288, 289, 291, 292, 293, 294, 295, 296, 297, 298, 299}\n"
     ]
    }
   ],
   "source": [
    "\n",
    "\n",
    "# Device and data setup\n",
    "device = device = torch.device('cuda' if torch.cuda.is_available() else 'cpu')\n",
    "\n",
    "torch.manual_seed(config['training']['seed'])\n",
    "np.random.seed(config['training']['seed'])\n",
    "\n",
    "protein_data = pd.read_csv(config['data']['input_file'])\n",
    "sequences = protein_data['sequence'].tolist()\n",
    "sequences = [seq for seq in sequences if len(seq)<config['model']['max_seq_length']]\n",
    "sequences = sequences[:config['training']['n_samples']]\n",
    "print(f'{len(sequences)} séquences')\n",
    "print(set([len(seq) for seq in sequences]))\n",
    "\n",
    "\n",
    "# Model creation\n",
    "vocabulary = ProteinVocabularyMaskPad()\n",
    "encoded = vocabulary.encode_batch(sequences,config['model']['max_seq_length'])\n",
    "dataset = torch.utils.data.TensorDataset(encoded)\n",
    "dataloader = torch.utils.data.DataLoader(dataset,\n",
    "                                         batch_size=config['training']['batch_size'], \n",
    "                                         shuffle=True)\n",
    "\n",
    "model = DenoisingTransformer(\n",
    "    vocab=vocabulary,\n",
    "    max_seq_length=config['model']['max_seq_length'],\n",
    "    d_model=config['model']['d_model'],\n",
    "    n_heads=config['model']['n_heads'],\n",
    "    n_layers=config['model']['n_layers'],\n",
    "    dropout=config['model']['dropout']\n",
    "    ).to(device)\n",
    "\n",
    "# Optimizer\n",
    "optimizer = torch.optim.Adam(model.parameters(), lr=config['training']['learning_rate'])\n",
    "    \n",
    "# Noise schedule function\n",
    "noise_schedule = NoiseSchedule(config['diffusion']['noise_schedule'])\n",
    "    "
   ]
  },
  {
   "cell_type": "markdown",
   "id": "9d13d807",
   "metadata": {},
   "source": [
    "### PIPELINE"
   ]
  },
  {
   "cell_type": "code",
   "execution_count": 4,
   "id": "2fde35a1",
   "metadata": {},
   "outputs": [
    {
     "name": "stdout",
     "output_type": "stream",
     "text": [
      "\n",
      "=== TRAINING ===\n"
     ]
    },
    {
     "name": "stderr",
     "output_type": "stream",
     "text": [
      "Training:   0%|          | 1/500 [00:03<32:54,  3.96s/it]"
     ]
    },
    {
     "name": "stdout",
     "output_type": "stream",
     "text": [
      "Epoch 0: Loss = 2.9453\n"
     ]
    },
    {
     "name": "stderr",
     "output_type": "stream",
     "text": [
      "Training:   2%|▏         | 11/500 [00:39<29:10,  3.58s/it]"
     ]
    },
    {
     "name": "stdout",
     "output_type": "stream",
     "text": [
      "Epoch 10: Loss = 2.7941\n"
     ]
    },
    {
     "name": "stderr",
     "output_type": "stream",
     "text": [
      "Training:   4%|▍         | 21/500 [01:15<28:35,  3.58s/it]"
     ]
    },
    {
     "name": "stdout",
     "output_type": "stream",
     "text": [
      "Epoch 20: Loss = 2.7423\n"
     ]
    },
    {
     "name": "stderr",
     "output_type": "stream",
     "text": [
      "Training:   6%|▌         | 31/500 [01:51<28:02,  3.59s/it]"
     ]
    },
    {
     "name": "stdout",
     "output_type": "stream",
     "text": [
      "Epoch 30: Loss = 2.6172\n"
     ]
    },
    {
     "name": "stderr",
     "output_type": "stream",
     "text": [
      "Training:   8%|▊         | 41/500 [02:26<27:20,  3.57s/it]"
     ]
    },
    {
     "name": "stdout",
     "output_type": "stream",
     "text": [
      "Epoch 40: Loss = 2.4727\n"
     ]
    },
    {
     "name": "stderr",
     "output_type": "stream",
     "text": [
      "Training:  10%|█         | 51/500 [03:02<26:41,  3.57s/it]"
     ]
    },
    {
     "name": "stdout",
     "output_type": "stream",
     "text": [
      "Epoch 50: Loss = 2.3261\n"
     ]
    },
    {
     "name": "stderr",
     "output_type": "stream",
     "text": [
      "Training:  12%|█▏        | 61/500 [03:38<26:02,  3.56s/it]"
     ]
    },
    {
     "name": "stdout",
     "output_type": "stream",
     "text": [
      "Epoch 60: Loss = 2.2299\n"
     ]
    },
    {
     "name": "stderr",
     "output_type": "stream",
     "text": [
      "Training:  14%|█▍        | 71/500 [04:13<25:26,  3.56s/it]"
     ]
    },
    {
     "name": "stdout",
     "output_type": "stream",
     "text": [
      "Epoch 70: Loss = 2.1924\n"
     ]
    },
    {
     "name": "stderr",
     "output_type": "stream",
     "text": [
      "Training:  16%|█▌        | 81/500 [04:49<24:50,  3.56s/it]"
     ]
    },
    {
     "name": "stdout",
     "output_type": "stream",
     "text": [
      "Epoch 80: Loss = 2.0476\n"
     ]
    },
    {
     "name": "stderr",
     "output_type": "stream",
     "text": [
      "Training:  18%|█▊        | 91/500 [05:24<24:13,  3.55s/it]"
     ]
    },
    {
     "name": "stdout",
     "output_type": "stream",
     "text": [
      "Epoch 90: Loss = 1.9789\n"
     ]
    },
    {
     "name": "stderr",
     "output_type": "stream",
     "text": [
      "Training:  20%|██        | 101/500 [06:00<23:40,  3.56s/it]"
     ]
    },
    {
     "name": "stdout",
     "output_type": "stream",
     "text": [
      "Epoch 100: Loss = 1.9589\n"
     ]
    },
    {
     "name": "stderr",
     "output_type": "stream",
     "text": [
      "Training:  22%|██▏       | 111/500 [06:35<23:00,  3.55s/it]"
     ]
    },
    {
     "name": "stdout",
     "output_type": "stream",
     "text": [
      "Epoch 110: Loss = 1.8874\n"
     ]
    },
    {
     "name": "stderr",
     "output_type": "stream",
     "text": [
      "Training:  24%|██▍       | 121/500 [07:11<22:25,  3.55s/it]"
     ]
    },
    {
     "name": "stdout",
     "output_type": "stream",
     "text": [
      "Epoch 120: Loss = 1.8085\n"
     ]
    },
    {
     "name": "stderr",
     "output_type": "stream",
     "text": [
      "Training:  26%|██▌       | 131/500 [07:46<21:49,  3.55s/it]"
     ]
    },
    {
     "name": "stdout",
     "output_type": "stream",
     "text": [
      "Epoch 130: Loss = 1.7965\n"
     ]
    },
    {
     "name": "stderr",
     "output_type": "stream",
     "text": [
      "Training:  28%|██▊       | 141/500 [08:22<21:15,  3.55s/it]"
     ]
    },
    {
     "name": "stdout",
     "output_type": "stream",
     "text": [
      "Epoch 140: Loss = 1.7568\n"
     ]
    },
    {
     "name": "stderr",
     "output_type": "stream",
     "text": [
      "Training:  30%|███       | 151/500 [08:57<20:38,  3.55s/it]"
     ]
    },
    {
     "name": "stdout",
     "output_type": "stream",
     "text": [
      "Epoch 150: Loss = 1.7711\n"
     ]
    },
    {
     "name": "stderr",
     "output_type": "stream",
     "text": [
      "Training:  32%|███▏      | 161/500 [09:33<20:04,  3.55s/it]"
     ]
    },
    {
     "name": "stdout",
     "output_type": "stream",
     "text": [
      "Epoch 160: Loss = 1.6989\n"
     ]
    },
    {
     "name": "stderr",
     "output_type": "stream",
     "text": [
      "Training:  34%|███▍      | 171/500 [10:08<19:25,  3.54s/it]"
     ]
    },
    {
     "name": "stdout",
     "output_type": "stream",
     "text": [
      "Epoch 170: Loss = 1.6078\n"
     ]
    },
    {
     "name": "stderr",
     "output_type": "stream",
     "text": [
      "Training:  36%|███▌      | 181/500 [10:44<18:50,  3.54s/it]"
     ]
    },
    {
     "name": "stdout",
     "output_type": "stream",
     "text": [
      "Epoch 180: Loss = 1.5835\n"
     ]
    },
    {
     "name": "stderr",
     "output_type": "stream",
     "text": [
      "Training:  38%|███▊      | 191/500 [11:19<18:14,  3.54s/it]"
     ]
    },
    {
     "name": "stdout",
     "output_type": "stream",
     "text": [
      "Epoch 190: Loss = 1.5187\n"
     ]
    },
    {
     "name": "stderr",
     "output_type": "stream",
     "text": [
      "Training:  40%|████      | 201/500 [11:55<17:41,  3.55s/it]"
     ]
    },
    {
     "name": "stdout",
     "output_type": "stream",
     "text": [
      "Epoch 200: Loss = 1.5082\n"
     ]
    },
    {
     "name": "stderr",
     "output_type": "stream",
     "text": [
      "Training:  42%|████▏     | 211/500 [12:30<17:06,  3.55s/it]"
     ]
    },
    {
     "name": "stdout",
     "output_type": "stream",
     "text": [
      "Epoch 210: Loss = 1.4881\n"
     ]
    },
    {
     "name": "stderr",
     "output_type": "stream",
     "text": [
      "Training:  44%|████▍     | 221/500 [13:06<16:30,  3.55s/it]"
     ]
    },
    {
     "name": "stdout",
     "output_type": "stream",
     "text": [
      "Epoch 220: Loss = 1.4887\n"
     ]
    },
    {
     "name": "stderr",
     "output_type": "stream",
     "text": [
      "Training:  46%|████▌     | 231/500 [13:41<15:54,  3.55s/it]"
     ]
    },
    {
     "name": "stdout",
     "output_type": "stream",
     "text": [
      "Epoch 230: Loss = 1.4088\n"
     ]
    },
    {
     "name": "stderr",
     "output_type": "stream",
     "text": [
      "Training:  48%|████▊     | 241/500 [14:17<15:19,  3.55s/it]"
     ]
    },
    {
     "name": "stdout",
     "output_type": "stream",
     "text": [
      "Epoch 240: Loss = 1.4122\n"
     ]
    },
    {
     "name": "stderr",
     "output_type": "stream",
     "text": [
      "Training:  50%|█████     | 251/500 [14:52<14:41,  3.54s/it]"
     ]
    },
    {
     "name": "stdout",
     "output_type": "stream",
     "text": [
      "Epoch 250: Loss = 1.2995\n"
     ]
    },
    {
     "name": "stderr",
     "output_type": "stream",
     "text": [
      "Training:  52%|█████▏    | 261/500 [15:28<14:06,  3.54s/it]"
     ]
    },
    {
     "name": "stdout",
     "output_type": "stream",
     "text": [
      "Epoch 260: Loss = 1.3255\n"
     ]
    },
    {
     "name": "stderr",
     "output_type": "stream",
     "text": [
      "Training:  54%|█████▍    | 271/500 [16:03<13:32,  3.55s/it]"
     ]
    },
    {
     "name": "stdout",
     "output_type": "stream",
     "text": [
      "Epoch 270: Loss = 1.2579\n"
     ]
    },
    {
     "name": "stderr",
     "output_type": "stream",
     "text": [
      "Training:  56%|█████▌    | 281/500 [16:39<12:56,  3.55s/it]"
     ]
    },
    {
     "name": "stdout",
     "output_type": "stream",
     "text": [
      "Epoch 280: Loss = 1.3434\n"
     ]
    },
    {
     "name": "stderr",
     "output_type": "stream",
     "text": [
      "Training:  58%|█████▊    | 291/500 [17:14<12:21,  3.55s/it]"
     ]
    },
    {
     "name": "stdout",
     "output_type": "stream",
     "text": [
      "Epoch 290: Loss = 1.2593\n"
     ]
    },
    {
     "name": "stderr",
     "output_type": "stream",
     "text": [
      "Training:  60%|██████    | 301/500 [17:49<11:45,  3.55s/it]"
     ]
    },
    {
     "name": "stdout",
     "output_type": "stream",
     "text": [
      "Epoch 300: Loss = 1.2409\n"
     ]
    },
    {
     "name": "stderr",
     "output_type": "stream",
     "text": [
      "Training:  62%|██████▏   | 311/500 [18:25<11:10,  3.55s/it]"
     ]
    },
    {
     "name": "stdout",
     "output_type": "stream",
     "text": [
      "Epoch 310: Loss = 1.2275\n"
     ]
    },
    {
     "name": "stderr",
     "output_type": "stream",
     "text": [
      "Training:  64%|██████▍   | 321/500 [19:00<10:34,  3.55s/it]"
     ]
    },
    {
     "name": "stdout",
     "output_type": "stream",
     "text": [
      "Epoch 320: Loss = 1.1005\n"
     ]
    },
    {
     "name": "stderr",
     "output_type": "stream",
     "text": [
      "Training:  66%|██████▌   | 331/500 [19:36<09:59,  3.55s/it]"
     ]
    },
    {
     "name": "stdout",
     "output_type": "stream",
     "text": [
      "Epoch 330: Loss = 1.1722\n"
     ]
    },
    {
     "name": "stderr",
     "output_type": "stream",
     "text": [
      "Training:  68%|██████▊   | 341/500 [20:11<09:24,  3.55s/it]"
     ]
    },
    {
     "name": "stdout",
     "output_type": "stream",
     "text": [
      "Epoch 340: Loss = 1.1473\n"
     ]
    },
    {
     "name": "stderr",
     "output_type": "stream",
     "text": [
      "Training:  70%|███████   | 351/500 [20:47<08:48,  3.55s/it]"
     ]
    },
    {
     "name": "stdout",
     "output_type": "stream",
     "text": [
      "Epoch 350: Loss = 1.0865\n"
     ]
    },
    {
     "name": "stderr",
     "output_type": "stream",
     "text": [
      "Training:  72%|███████▏  | 361/500 [21:22<08:12,  3.55s/it]"
     ]
    },
    {
     "name": "stdout",
     "output_type": "stream",
     "text": [
      "Epoch 360: Loss = 1.0505\n"
     ]
    },
    {
     "name": "stderr",
     "output_type": "stream",
     "text": [
      "Training:  74%|███████▍  | 371/500 [21:58<07:37,  3.55s/it]"
     ]
    },
    {
     "name": "stdout",
     "output_type": "stream",
     "text": [
      "Epoch 370: Loss = 0.9955\n"
     ]
    },
    {
     "name": "stderr",
     "output_type": "stream",
     "text": [
      "Training:  76%|███████▌  | 381/500 [22:33<07:02,  3.55s/it]"
     ]
    },
    {
     "name": "stdout",
     "output_type": "stream",
     "text": [
      "Epoch 380: Loss = 0.9683\n"
     ]
    },
    {
     "name": "stderr",
     "output_type": "stream",
     "text": [
      "Training:  78%|███████▊  | 391/500 [23:09<06:26,  3.55s/it]"
     ]
    },
    {
     "name": "stdout",
     "output_type": "stream",
     "text": [
      "Epoch 390: Loss = 1.0379\n"
     ]
    },
    {
     "name": "stderr",
     "output_type": "stream",
     "text": [
      "Training:  80%|████████  | 401/500 [23:44<05:51,  3.55s/it]"
     ]
    },
    {
     "name": "stdout",
     "output_type": "stream",
     "text": [
      "Epoch 400: Loss = 0.9938\n"
     ]
    },
    {
     "name": "stderr",
     "output_type": "stream",
     "text": [
      "Training:  82%|████████▏ | 411/500 [24:20<05:15,  3.55s/it]"
     ]
    },
    {
     "name": "stdout",
     "output_type": "stream",
     "text": [
      "Epoch 410: Loss = 0.9766\n"
     ]
    },
    {
     "name": "stderr",
     "output_type": "stream",
     "text": [
      "Training:  84%|████████▍ | 421/500 [24:55<04:40,  3.55s/it]"
     ]
    },
    {
     "name": "stdout",
     "output_type": "stream",
     "text": [
      "Epoch 420: Loss = 0.8753\n"
     ]
    },
    {
     "name": "stderr",
     "output_type": "stream",
     "text": [
      "Training:  86%|████████▌ | 431/500 [25:30<04:04,  3.54s/it]"
     ]
    },
    {
     "name": "stdout",
     "output_type": "stream",
     "text": [
      "Epoch 430: Loss = 0.8697\n"
     ]
    },
    {
     "name": "stderr",
     "output_type": "stream",
     "text": [
      "Training:  88%|████████▊ | 441/500 [26:06<03:29,  3.54s/it]"
     ]
    },
    {
     "name": "stdout",
     "output_type": "stream",
     "text": [
      "Epoch 440: Loss = 0.8249\n"
     ]
    },
    {
     "name": "stderr",
     "output_type": "stream",
     "text": [
      "Training:  90%|█████████ | 451/500 [26:41<02:54,  3.56s/it]"
     ]
    },
    {
     "name": "stdout",
     "output_type": "stream",
     "text": [
      "Epoch 450: Loss = 0.7755\n"
     ]
    },
    {
     "name": "stderr",
     "output_type": "stream",
     "text": [
      "Training:  92%|█████████▏| 461/500 [27:17<02:18,  3.55s/it]"
     ]
    },
    {
     "name": "stdout",
     "output_type": "stream",
     "text": [
      "Epoch 460: Loss = 0.8686\n"
     ]
    },
    {
     "name": "stderr",
     "output_type": "stream",
     "text": [
      "Training:  94%|█████████▍| 471/500 [27:52<01:42,  3.53s/it]"
     ]
    },
    {
     "name": "stdout",
     "output_type": "stream",
     "text": [
      "Epoch 470: Loss = 0.7583\n"
     ]
    },
    {
     "name": "stderr",
     "output_type": "stream",
     "text": [
      "Training:  96%|█████████▌| 481/500 [28:28<01:07,  3.55s/it]"
     ]
    },
    {
     "name": "stdout",
     "output_type": "stream",
     "text": [
      "Epoch 480: Loss = 0.7796\n"
     ]
    },
    {
     "name": "stderr",
     "output_type": "stream",
     "text": [
      "Training:  98%|█████████▊| 491/500 [29:03<00:31,  3.54s/it]"
     ]
    },
    {
     "name": "stdout",
     "output_type": "stream",
     "text": [
      "Epoch 490: Loss = 0.8599\n"
     ]
    },
    {
     "name": "stderr",
     "output_type": "stream",
     "text": [
      "Training: 100%|██████████| 500/500 [29:35<00:00,  3.55s/it]\n"
     ]
    },
    {
     "data": {
      "image/png": "[encoded data removed]",
      "text/plain": [
       "<Figure size 1000x600 with 1 Axes>"
      ]
     },
     "metadata": {},
     "output_type": "display_data"
    },
    {
     "name": "stdout",
     "output_type": "stream",
     "text": [
      "Plot saved: /home/arthur/projets/protein-generation/experiments/models/exp_classic_mdlm_VL__20250722_103305/training_loss.png\n"
     ]
    }
   ],
   "source": [
    "print(\"\\n=== TRAINING ===\")\n",
    "losses = train_model(\n",
    "    model=model,\n",
    "    dataloader=dataloader,\n",
    "    optimizer=optimizer,                                                                \n",
    "    noise_schedule=noise_schedule,\n",
    "    n_epochs=config['training']['n_epochs'],\n",
    "    vocab=vocabulary\n",
    ")\n",
    "\n",
    "# Plot losses\n",
    "plot_and_save_losses(config, losses)"
   ]
  },
  {
   "cell_type": "code",
   "execution_count": 5,
   "id": "e6383c3a",
   "metadata": {},
   "outputs": [
    {
     "name": "stdout",
     "output_type": "stream",
     "text": [
      "\n",
      "=== GENERATION ===\n"
     ]
    },
    {
     "name": "stderr",
     "output_type": "stream",
     "text": [
      "/home/arthur/miniforge3/envs/mdlm_env/lib/python3.9/site-packages/torch/nn/modules/transformer.py:502: UserWarning: The PyTorch API of nested tensors is in prototype stage and will change in the near future. (Triggered internally at ../aten/src/ATen/NestedTensorImpl.cpp:178.)\n",
      "  output = torch._nested_tensor_from_mask(\n"
     ]
    },
    {
     "name": "stdout",
     "output_type": "stream",
     "text": [
      "\n",
      "Displaying 5 generated sequences:\n",
      "Sequence 1: MVDLNVQLRVNIRNDYILAIRNAVSSGVKEVANLGVSQKADIRYEHRFAV...\n",
      "Sequence 2: MVSQLADIRSNNDCAVVLASQNARIEVVKYLVNLGAGDRAHNDYAVRMAS...\n",
      "Sequence 3: MVKVLVVIGVNIRYDNKCAIQNASLHGHKEVVKYLVSQGANIFDENNFAV...\n",
      "Sequence 4: MVSLLIWIRSNNVDAVDLASQNGRIEVVKYVVNLGANIRHLIDYEVKMWV...\n",
      "Sequence 5: MVSLGAVIRSNNLCEVVLASQNAREEVVKYLVNYGSSVRASNERAVRMAD...\n"
     ]
    }
   ],
   "source": [
    "# Sequence generation\n",
    "print(\"\\n=== GENERATION ===\")\n",
    "generated_tokens = generate_sequences(\n",
    "    model=model,\n",
    "    vocab=vocabulary,\n",
    "    n_samples=config['generation']['n_samples'],\n",
    "    seq_length=config['generation']['seq_length'],\n",
    "    noise_schedule=noise_schedule,\n",
    "    dt=config['generation']['dt']\n",
    ")\n",
    "\n",
    "# Decode sequences\n",
    "generated_sequences = [vocabulary.decode_sequence(seq) for seq in generated_tokens]\n",
    "\n",
    "# Display and save results\n",
    "display_sample_sequences(config, generated_sequences)"
   ]
  },
  {
   "cell_type": "code",
   "execution_count": 6,
   "id": "4a735bf6",
   "metadata": {},
   "outputs": [
    {
     "name": "stdout",
     "output_type": "stream",
     "text": [
      "\n",
      "=== SAVING RESULTS ===\n",
      "Model saved: /home/arthur/projets/protein-generation/experiments/models/exp_classic_mdlm_VL__20250722_103305/model.pth\n",
      "Losses saved: /home/arthur/projets/protein-generation/experiments/models/exp_classic_mdlm_VL__20250722_103305/losses.pkl\n",
      "Generated sequences saved: /home/arthur/projets/protein-generation/experiments/models/exp_classic_mdlm_VL__20250722_103305/generated_sequences.csv\n",
      "\n",
      "=== EXPERIMENT COMPLETE ===\n",
      "Name: exp_classic_mdlm_VL__20250722_103305\n",
      "Directory: /home/arthur/projets/protein-generation/experiments/models/exp_classic_mdlm_VL__20250722_103305\n",
      "Training sequences: 1000\n",
      "Epochs: 500\n",
      "Final loss: 0.7187\n",
      "Generated sequences: 1000\n",
      "\n",
      "Saved files:\n",
      "  - model.pth\n",
      "  - losses.pkl\n",
      "  - config.yaml\n",
      "  - training_loss.png\n",
      "  - generated_sequences.csv\n",
      "  - losses.csv\n",
      "\n",
      "Experiment finished successfully!\n"
     ]
    }
   ],
   "source": [
    "\n",
    "print(\"\\n=== SAVING RESULTS ===\")\n",
    "save_results(config, model, losses, generated_sequences)\n",
    "\n",
    "# Final summary\n",
    "print(f\"\\n=== EXPERIMENT COMPLETE ===\")\n",
    "print(f\"Name: {config['experiment']['name']}\")\n",
    "print(f\"Directory: {config['exp_dir']}\")\n",
    "print(f\"Training sequences: {len(sequences)}\")\n",
    "print(f\"Epochs: {config['training']['n_epochs']}\")\n",
    "print(f\"Final loss: {losses[-1]:.4f}\")\n",
    "print(f\"Generated sequences: {len(generated_sequences)}\")\n",
    "\n",
    "print(\"\\nSaved files:\")\n",
    "for fname in os.listdir(config['exp_dir']):\n",
    "    print(f\"  - {fname}\")\n",
    "\n",
    "print(\"\\nExperiment finished successfully!\")"
   ]
  }
 ],
 "metadata": {
  "kernelspec": {
   "display_name": "mdlm_env",
   "language": "python",
   "name": "python3"
  },
  "language_info": {
   "codemirror_mode": {
    "name": "ipython",
    "version": 3
   },
   "file_extension": ".py",
   "mimetype": "text/x-python",
   "name": "python",
   "nbconvert_exporter": "python",
   "pygments_lexer": "ipython3",
   "version": "3.9.23"
  }
 },
 "nbformat": 4,
 "nbformat_minor": 5
}
