{
 "cells": [
  {
   "cell_type": "markdown",
   "id": "89cfab97",
   "metadata": {},
   "source": [
    "## IMPORTS & DATA"
   ]
  },
  {
   "cell_type": "code",
   "execution_count": null,
   "id": "b0b7ce55",
   "metadata": {},
   "outputs": [],
   "source": [
    "import torch\n",
    "import pandas as pd\n",
    "from pathlib import Path\n",
    "from typing import List, Tuple, Dict, Union\n",
    "import warnings\n",
    "warnings.filterwarnings('ignore')\n",
    "\n",
    "import sys, pathlib, os\n",
    "project_root = pathlib.Path.home() / \"projets\" / \"protein-generation\"\n",
    "sys.path.append(str(project_root))\n",
    "\n",
    "from scripts.evaluation.evaluate import *\n",
    "\n",
    "# Device configuration\n",
    "device = torch.device(\"cuda:0\" if torch.cuda.is_available() else \"cpu\")\n",
    "print(f\"Using device: {device}\")\n",
    "\n",
    "# Model names\n",
    "PPL_MODEL_NAME = \"facebook/esm2_t6_8M_UR50D\"  # For perplexity calculation\n",
    "FOLD_MODEL_NAME = \"facebook/esmfold_v1\"  # For structure prediction\n",
    "\n",
    "# Global variables to store models (avoiding reloading)\n",
    "ppl_model = None\n",
    "ppl_tokenizer = None\n",
    "fold_model = None\n",
    "fold_tokenizer = None\n",
    "\n",
    "# Load both models\n",
    "ppl_model, ppl_tokenizer = load_perplexity_model(ppl_model_name=PPL_MODEL_NAME, device=device)\n",
    "fold_model, fold_tokenizer = load_folding_model(fold_model_name=FOLD_MODEL_NAME, device=device)\n",
    "\n",
    "print(\"Models loaded successfully!\")\n"
   ]
  },
  {
   "cell_type": "code",
   "execution_count": null,
   "id": "94548351",
   "metadata": {},
   "outputs": [],
   "source": [
    "out_dir = '/home/arthur/projets/protein-generation/experiments/metrics/test2_circular'\n",
    "print(f\"Output directory: {out_dir}\")"
   ]
  },
  {
   "cell_type": "code",
   "execution_count": null,
   "id": "1cd6ecad",
   "metadata": {},
   "outputs": [],
   "source": [
    "SEQUENCE_LENGTH = 100\n",
    "N_SAMPLES = 1000\n",
    "\n",
    "\n",
    "df = pd.read_csv(\"/home/arthur/projets/protein-generation/data/seq_clean_L100.csv\")\n",
    "df_gen = pd.read_csv(\"/home/arthur/projets/protein-generation/experiments/models/exp_masking_forward_masking_denoise_20250715_112806/generated_sequences.csv\")\n",
    "df_rand = pd.read_csv(\"/home/arthur/projets/protein-generation/data/seq_random_L100.csv\")\n",
    "\n",
    "training_sequences = df[\"sequence\"].str[:SEQUENCE_LENGTH].iloc[:N_SAMPLES].tolist()\n",
    "generated_sequences = df_gen[\"sequence\"].str[:SEQUENCE_LENGTH].iloc[:N_SAMPLES].tolist()\n",
    "random_sequences = df_rand[\"sequence\"].str[:SEQUENCE_LENGTH].iloc[:N_SAMPLES].tolist()\n"
   ]
  },
  {
   "cell_type": "code",
   "execution_count": null,
   "id": "180651af",
   "metadata": {},
   "outputs": [],
   "source": [
    "def circular_cut(sequence, min_bound=10, max_bound=90):\n",
    "    cut_position = random.randint(min_bound, max_bound)\n",
    "    return sequence[cut_position:] + sequence[:cut_position]\n",
    "\n",
    "def repeated_circular_cut(sequence, k, min_bound=10, max_bound=90):\n",
    "    result = sequence\n",
    "    for i in range(k):\n",
    "        result = circular_cut(result, min_bound, max_bound)\n",
    "    return result\n",
    "\n",
    "generated_circular_5 = [repeated_circular_cut(seq, 5) for seq in generated_sequences]\n",
    "generated_circular_10 = [repeated_circular_cut(seq, 10) for seq in generated_sequences]\n",
    "generated_circular_20 = [repeated_circular_cut(seq, 20) for seq in generated_sequences]\n",
    "generated_circular_50 = [repeated_circular_cut(seq, 50) for seq in generated_sequences]\n",
    "generated_circular_100 = [repeated_circular_cut(seq, 100) for seq in generated_sequences]"
   ]
  },
  {
   "cell_type": "code",
   "execution_count": null,
   "id": "124fa561",
   "metadata": {},
   "outputs": [],
   "source": [
    "\n",
    "generated_datasets = {\n",
    "    'training': training_sequences,  # List of training sequences\n",
    "    'random': random_sequences,  # List of random sequences for comparison\n",
    "    'generated': generated_sequences,  # List of generated sequences from the model\n",
    "    'circular_5': generated_circular_5,  # List of sequences with 5 circular cuts\n",
    "    'circular_10': generated_circular_10,  # List of sequences with 10 circular cuts\n",
    "    'circular_20': generated_circular_20,  # List of sequences with 20 circular cuts\n",
    "    'circular_50': generated_circular_50,  # List of sequences with 50 circular cuts\n",
    "    'circular_100': generated_circular_100,  # List of sequences with 100 circular cuts\n",
    "    'generated': random_sequences # List of random sequences for comparison\n",
    "    }\n",
    "\n",
    "\n",
    "print(f\"Training sequences: {len(training_sequences)}\")\n",
    "for name, seqs in generated_datasets.items():\n",
    "    print(f\"Generated dataset '{name}': {len(seqs)} sequences\")"
   ]
  },
  {
   "cell_type": "markdown",
   "id": "62ef0f54",
   "metadata": {},
   "source": [
    "## QUALITY"
   ]
  },
  {
   "cell_type": "code",
   "execution_count": null,
   "id": "53f0bdae",
   "metadata": {},
   "outputs": [],
   "source": [
    "# Calculate quality metrics for training sequences\n",
    "print(\"Evaluating training sequences...\")\n",
    "training_quality_results = evaluate_quality(\n",
    "    sequences=training_sequences,\n",
    "    ppl_model=ppl_model,\n",
    "    ppl_tokenizer=ppl_tokenizer,\n",
    "    fold_model=fold_model,\n",
    "    fold_tokenizer=fold_tokenizer,\n",
    "    output_file=f\"{out_dir}/training_sequences\",\n",
    "    device=device,\n",
    "    batch_size=256\n",
    ")\n",
    "\n",
    "\n",
    "# Calculate quality metrics for all generated datasets\n",
    "generated_quality_results = {}\n",
    "for dataset_name, sequences in generated_datasets.items():\n",
    "    print(f\"Evaluating generated dataset '{dataset_name}'...\")\n",
    "    quality_results = evaluate_quality(\n",
    "        sequences=sequences,\n",
    "        ppl_model=ppl_model,\n",
    "        ppl_tokenizer=ppl_tokenizer,\n",
    "        fold_model=fold_model,\n",
    "        fold_tokenizer=fold_tokenizer,\n",
    "        output_file=f\"{out_dir}/{dataset_name}_sequences\",\n",
    "        device=device,\n",
    "        batch_size=256\n",
    "    )\n",
    "    generated_quality_results[dataset_name] = quality_results"
   ]
  },
  {
   "cell_type": "markdown",
   "id": "733aedc4",
   "metadata": {},
   "source": [
    "## DISTRIBUTION"
   ]
  },
  {
   "cell_type": "code",
   "execution_count": null,
   "id": "376a8b0b",
   "metadata": {},
   "outputs": [],
   "source": [
    "distribution_results = {}\n",
    "for dataset_name, sequences in generated_datasets.items():\n",
    "    print(f\"Calculating distribution metrics for '{dataset_name}' vs training...\")\n",
    "    \n",
    "    dist_results = evaluate_distributions(\n",
    "        generated_sequences=sequences,\n",
    "        training_sequences=training_sequences,\n",
    "        ppl_model=ppl_model,\n",
    "        ppl_tokenizer=ppl_tokenizer,\n",
    "        output_file=f\"{out_dir}/{dataset_name}_vs_training\",\n",
    "        device=device,\n",
    "        k_neighbors=5,\n",
    "        soft_align_k=5,\n",
    "        n_projections=100,\n",
    "        kde_bandwidth=0.1,\n",
    "        kde_n_samples=1000,\n",
    "        toppr_alpha=0.1,\n",
    "        random_seed=42\n",
    "    )\n",
    "    \n",
    "    distribution_results[dataset_name] = dist_results\n"
   ]
  },
  {
   "cell_type": "markdown",
   "id": "d3923b2c",
   "metadata": {},
   "source": []
  }
 ],
 "metadata": {
  "kernelspec": {
   "display_name": "eval_env",
   "language": "python",
   "name": "python3"
  },
  "language_info": {
   "codemirror_mode": {
    "name": "ipython",
    "version": 3
   },
   "file_extension": ".py",
   "mimetype": "text/x-python",
   "name": "python",
   "nbconvert_exporter": "python",
   "pygments_lexer": "ipython3",
   "version": "3.9.23"
  }
 },
 "nbformat": 4,
 "nbformat_minor": 5
}
