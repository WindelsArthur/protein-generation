{
 "cells": [
  {
   "cell_type": "code",
   "execution_count": 8,
   "id": "f3a063c9",
   "metadata": {},
   "outputs": [],
   "source": [
    "# Import soft alignment functions\n",
    "\n",
    "import os\n",
    "from Bio import SeqIO\n",
    "import torch\n",
    "from soft_align import get_data_matrix, get_matches, get_longest_path\n",
    "\n"
   ]
  },
  {
   "cell_type": "code",
   "execution_count": 9,
   "id": "76604df4",
   "metadata": {},
   "outputs": [],
   "source": [
    "# Specify the directory paths where sequence embeddings and fasta sequences are stored\n",
    "embedding_directory = './soft_align_example_data/example_embeddings/'\n",
    "\n",
    "fasta_directory = './soft_align_example_data/'\n",
    "fasta_file = 'example.fasta'\n"
   ]
  },
  {
   "cell_type": "code",
   "execution_count": 10,
   "id": "0bb302d1",
   "metadata": {},
   "outputs": [
    {
     "name": "stdout",
     "output_type": "stream",
     "text": [
      "['YP_006990334.1', 'YP_001468397.1', 'WP_016056174.1']\n"
     ]
    }
   ],
   "source": [
    "# Load fasta file as a dictionary\n",
    "# Keys in seqs dictionary are sequence names\n",
    "# Values in seqs dictionary are the information for each sequence stored in the fasta file\n",
    "\n",
    "seqs = SeqIO.to_dict(SeqIO.parse(os.path.join(fasta_directory, fasta_file), 'fasta'))\n",
    "\n",
    "# Create a list of sequence names\n",
    "seq_names = list(seqs.keys())\n",
    "print(seq_names)"
   ]
  },
  {
   "cell_type": "code",
   "execution_count": 11,
   "id": "eabefd3e",
   "metadata": {},
   "outputs": [
    {
     "data": {
      "text/plain": [
       "Seq('MQNNKNFQNVLLAHINNIKDLPLKARIDYFEDDKDDLVIN')"
      ]
     },
     "execution_count": 11,
     "metadata": {},
     "output_type": "execute_result"
    }
   ],
   "source": [
    "# Print sequence from seqs dictionary\n",
    "\n",
    "seqs['YP_006990334.1'].seq[0:40]"
   ]
  },
  {
   "cell_type": "code",
   "execution_count": 12,
   "id": "fb28cb9b",
   "metadata": {},
   "outputs": [],
   "source": [
    "# Create a string of the sequences being compared\n",
    "\n",
    "seq_1_str =  str(seqs[seq_names[0]].seq)\n",
    "seq_2_str =  str(seqs[seq_names[1]].seq)\n"
   ]
  },
  {
   "cell_type": "code",
   "execution_count": 13,
   "id": "63ac4889",
   "metadata": {},
   "outputs": [
    {
     "name": "stdout",
     "output_type": "stream",
     "text": [
      "Length Sequence 1:  135\n",
      "Length Sequence 2:  135\n"
     ]
    }
   ],
   "source": [
    "# Print the length of the sequence strings\n",
    "\n",
    "print(\"Length Sequence 1: \", len(seq_1_str))\n",
    "print(\"Length Sequence 2: \", len(seq_2_str))"
   ]
  },
  {
   "cell_type": "code",
   "execution_count": 14,
   "id": "86023d24",
   "metadata": {},
   "outputs": [],
   "source": [
    "# Create dictionary containing the embeddings of sequences\n",
    "# Sequence name and representation are stored in the dictionary\n",
    "\n",
    "seq_1_embedding = torch.load(f\"{embedding_directory + seq_names[0]}.pt\")\n",
    "seq_2_embedding = torch.load(f\"{embedding_directory + seq_names[1]}.pt\")"
   ]
  },
  {
   "cell_type": "code",
   "execution_count": 15,
   "id": "d0a8c402",
   "metadata": {},
   "outputs": [
    {
     "name": "stdout",
     "output_type": "stream",
     "text": [
      "Sequence 1 Dictionary Keys:  dict_keys(['label', 'representations'])\n",
      "Sequence 2 Dictionary Keys:  dict_keys(['label', 'representations'])\n"
     ]
    }
   ],
   "source": [
    "# Embeddings created by ESM2 are saved in a dictionary with the following structure. \n",
    "# When utilizing different formats, it's important to correctly use the \"representations\" field \n",
    "# that corresponds to the model being used.\n",
    "\n",
    "print(\"Sequence 1 Dictionary Keys: \", seq_1_embedding.keys())\n",
    "print(\"Sequence 2 Dictionary Keys: \", seq_2_embedding.keys())"
   ]
  },
  {
   "cell_type": "code",
   "execution_count": 16,
   "id": "431318d1",
   "metadata": {},
   "outputs": [
    {
     "data": {
      "text/html": [
       "<div>\n",
       "<style scoped>\n",
       "    .dataframe tbody tr th:only-of-type {\n",
       "        vertical-align: middle;\n",
       "    }\n",
       "\n",
       "    .dataframe tbody tr th {\n",
       "        vertical-align: top;\n",
       "    }\n",
       "\n",
       "    .dataframe thead th {\n",
       "        text-align: right;\n",
       "    }\n",
       "</style>\n",
       "<table border=\"1\" class=\"dataframe\">\n",
       "  <thead>\n",
       "    <tr style=\"text-align: right;\">\n",
       "      <th></th>\n",
       "      <th>0</th>\n",
       "      <th>1</th>\n",
       "      <th>2</th>\n",
       "      <th>3</th>\n",
       "      <th>4</th>\n",
       "    </tr>\n",
       "  </thead>\n",
       "  <tbody>\n",
       "    <tr>\n",
       "      <th>0</th>\n",
       "      <td>0.947351</td>\n",
       "      <td>0.838340</td>\n",
       "      <td>0.865979</td>\n",
       "      <td>0.830881</td>\n",
       "      <td>0.826368</td>\n",
       "    </tr>\n",
       "    <tr>\n",
       "      <th>1</th>\n",
       "      <td>0.866956</td>\n",
       "      <td>0.878017</td>\n",
       "      <td>0.888858</td>\n",
       "      <td>0.862527</td>\n",
       "      <td>0.836949</td>\n",
       "    </tr>\n",
       "    <tr>\n",
       "      <th>2</th>\n",
       "      <td>0.886032</td>\n",
       "      <td>0.876636</td>\n",
       "      <td>0.897953</td>\n",
       "      <td>0.880396</td>\n",
       "      <td>0.876158</td>\n",
       "    </tr>\n",
       "    <tr>\n",
       "      <th>3</th>\n",
       "      <td>0.852143</td>\n",
       "      <td>0.892888</td>\n",
       "      <td>0.901820</td>\n",
       "      <td>0.852618</td>\n",
       "      <td>0.876243</td>\n",
       "    </tr>\n",
       "    <tr>\n",
       "      <th>4</th>\n",
       "      <td>0.843087</td>\n",
       "      <td>0.852053</td>\n",
       "      <td>0.927681</td>\n",
       "      <td>0.866988</td>\n",
       "      <td>0.867131</td>\n",
       "    </tr>\n",
       "  </tbody>\n",
       "</table>\n",
       "</div>"
      ],
      "text/plain": [
       "          0         1         2         3         4\n",
       "0  0.947351  0.838340  0.865979  0.830881  0.826368\n",
       "1  0.866956  0.878017  0.888858  0.862527  0.836949\n",
       "2  0.886032  0.876636  0.897953  0.880396  0.876158\n",
       "3  0.852143  0.892888  0.901820  0.852618  0.876243\n",
       "4  0.843087  0.852053  0.927681  0.866988  0.867131"
      ]
     },
     "execution_count": 16,
     "metadata": {},
     "output_type": "execute_result"
    }
   ],
   "source": [
    "# Generate a matrix containing cosine distances of amino acid embeddings from sequence representations\n",
    "\n",
    "data = get_data_matrix(seq_1_embedding,seq_2_embedding)\n",
    "data.iloc[0:5, 0:5]"
   ]
  },
  {
   "cell_type": "code",
   "execution_count": 17,
   "id": "7a5a1a5d",
   "metadata": {},
   "outputs": [
    {
     "data": {
      "text/plain": [
       "(135, 135)"
      ]
     },
     "execution_count": 17,
     "metadata": {},
     "output_type": "execute_result"
    }
   ],
   "source": [
    "# Print the shape of the cosine distance matrix\n",
    "# The shape corresponds to (length of sequence 1, length of sequence 2)\n",
    "\n",
    "data.shape"
   ]
  },
  {
   "cell_type": "code",
   "execution_count": 18,
   "id": "65e2bce4",
   "metadata": {},
   "outputs": [
    {
     "data": {
      "text/plain": [
       "[(25, 23), (59, 55), (107, 104), (133, 132), (126, 126)]"
      ]
     },
     "execution_count": 18,
     "metadata": {},
     "output_type": "execute_result"
    }
   ],
   "source": [
    "# Generate matches of amino acids from the cosine distance matrix\n",
    "\n",
    "matches = get_matches(seq_1_str, seq_2_str, data)\n",
    "matches[0:5]"
   ]
  },
  {
   "cell_type": "code",
   "execution_count": 19,
   "id": "ca4f16df",
   "metadata": {
    "scrolled": true
   },
   "outputs": [
    {
     "data": {
      "text/plain": [
       "[(0, 0), (3, 1), (4, 2), (5, 3), (6, 4)]"
      ]
     },
     "execution_count": 19,
     "metadata": {},
     "output_type": "execute_result"
    }
   ],
   "source": [
    "# Generate a longest path of matches that diagonally traverse the matrix, to be considered a soft alignment\n",
    "longest_path = get_longest_path(data, matches)\n",
    "longest_path [0:5]"
   ]
  }
 ],
 "metadata": {
  "kernelspec": {
   "display_name": "Python 3 (ipykernel)",
   "language": "python",
   "name": "python3"
  },
  "language_info": {
   "codemirror_mode": {
    "name": "ipython",
    "version": 3
   },
   "file_extension": ".py",
   "mimetype": "text/x-python",
   "name": "python",
   "nbconvert_exporter": "python",
   "pygments_lexer": "ipython3",
   "version": "3.9.16"
  }
 },
 "nbformat": 4,
 "nbformat_minor": 5
}
